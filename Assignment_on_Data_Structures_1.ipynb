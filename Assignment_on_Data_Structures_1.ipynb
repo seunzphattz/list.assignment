{
 "cells": [
  {
   "cell_type": "markdown",
   "metadata": {},
   "source": [
    "## 1. \n",
    "\n",
    "\n",
    "x = 16 - 2 * 5 // 3 + 1\n",
    "\n",
    "\n",
    "y = 2 ** 3 * 3\n",
    "\n",
    "what is x?\n",
    "what is y?\n",
    "\n",
    "Describe the order that the computation occurred in each case. i.e which happened first, followed by which one, etc."
   ]
  },
  {
   "cell_type": "markdown",
   "metadata": {},
   "source": [
    "## 2. \n",
    "Add parenthesis to the expression 6 * 1 - 2 to change the resulting value from 4 to -6."
   ]
  },
  {
   "cell_type": "markdown",
   "metadata": {},
   "source": [
    "## 3. \n",
    "Compute the area of a circle with radius 7, stored into a variable called area. \n",
    "Print a nice message with the answer.\n",
    "\n",
    "Note- Search for the formula to calculate area of a circle. "
   ]
  },
  {
   "cell_type": "markdown",
   "metadata": {},
   "source": [
    "## 4. \n",
    "Write an expression to check to if a number 3, stored in a variable x, is between 0 and 5."
   ]
  },
  {
   "cell_type": "markdown",
   "metadata": {},
   "source": [
    "## 5. \n",
    "\n",
    "Variables x and y refer to Boolean values.\n",
    "\n",
    "\n",
    "a. Write an expression that produces True if both variables are True.\n",
    "\n",
    "b. Write an expression that produces True if at least one of the variables\n",
    "is True.\n",
    "\n",
    "c. write an expression that inverses the result of 5a above."
   ]
  },
  {
   "cell_type": "markdown",
   "metadata": {},
   "source": [
    "## 6.\n",
    "Create a list that contains floats and integers, and write a code to sum all the items in the list."
   ]
  },
  {
   "cell_type": "markdown",
   "metadata": {},
   "source": [
    "## 7.\n",
    "list1 = [3, 5, 1, 3, 9, 5, 7] \n",
    "\n",
    "Write a code to sort this list in increasing order."
   ]
  },
  {
   "cell_type": "markdown",
   "metadata": {},
   "source": [
    "## 8.\n",
    "\n",
    "list2 = [1, 2, 5, 7, 9, 0, 3, 6, 7, 1, 3, 5, 6, 8, ,2, 9, 0, 5, 2, 1, 2, 4, 2]\n",
    "\n",
    "Write a code to count how many times 2 occured in the list"
   ]
  },
  {
   "cell_type": "markdown",
   "metadata": {},
   "source": [
    "## 9.\n",
    "list3 = [\"Tosin\", 10.4, 9, (23, \"Faith\", [10, [\"Chinelo\", \"Sandra\"], 22)], 100, 85.5, 12.4, \"Promise\", (\"11\", 90)]\n",
    "\n",
    "Using string formatting, write a code that slices out \"Chinelo\", \"Faith\", slices out the number 100, 85.5, and 90.\n",
    "\n",
    "Your code should print out: Chinelo couldn't score 100%, she got 90%, However, Faith is a close second with 85.5%.\n",
    "\n",
    "NB: Make sure your output contains % sign"
   ]
  },
  {
   "cell_type": "markdown",
   "metadata": {},
   "source": [
    "## 10.\n",
    "\n",
    "list4 = [\"Chima\", \"Ebuka\", \"Rose\", \"Hassan\", \"Bisi\"]\n",
    "\n",
    "Write a code that removes any of these names and replaces it with your name in that particular index"
   ]
  },
  {
   "cell_type": "markdown",
   "metadata": {},
   "source": [
    "## 11. \n",
    "\n",
    "list4 = [\"Chima\", \"Ebuka\", \"Rose\", \"Hassan\", \"Bisi\"]\n",
    "\n",
    "Write a code that prints out the index positon of the name \"Rose\""
   ]
  },
  {
   "cell_type": "markdown",
   "metadata": {},
   "source": [
    "## 12. \n",
    "\n",
    "list4 = [\"Chima\", \"Ebuka\", \"Rose\", \"Hassan\", \"Bisi\"]\n",
    "\n",
    "Write a code that adds your name to this list of names"
   ]
  },
  {
   "cell_type": "markdown",
   "metadata": {},
   "source": [
    "## 13.\n",
    "sets = {3, 1, 10, 4, 5, 6}\n",
    "\n",
    "Write a code that sorts this set in asceding order. Print the output, explain the out you got and why."
   ]
  },
  {
   "cell_type": "markdown",
   "metadata": {},
   "source": [
    "## 14.\n",
    "\n",
    "- set1 = {10, 20, 30, 40, 50}\n",
    "- set2 = {30, 40, 50, 60, 70}\n",
    "\n",
    "Write a code prints out a new set with all items from both sets by removing duplicates"
   ]
  },
  {
   "cell_type": "markdown",
   "metadata": {},
   "source": [
    "## 15.\n",
    "\n",
    "- Create a string that is a long series of words separated by spaces. \n",
    "It can be names, cities, animals, anything. Just make it up yourself.\n",
    "- Turn the string into a list of words using split. \n",
    "- Delete two words from the list, but delete each one using a different kind of Python method. \n",
    "- Sort the list. \n",
    "- Add two new words to the list using two different kinds of Python operation used in adding items to a list. \n",
    "- Turn the list of words back into a single string using join. \n",
    "- Print the string.\n",
    "\n",
    "NB: Feel free to use Google to find out other ways to add and remove items from a list"
   ]
  },
  {
   "cell_type": "markdown",
   "metadata": {},
   "source": []
  }
 ],
 "metadata": {
  "kernelspec": {
   "display_name": "Python 3",
   "language": "python",
   "name": "python3"
  },
  "language_info": {
   "codemirror_mode": {
    "name": "ipython",
    "version": 3
   },
   "file_extension": ".py",
   "mimetype": "text/x-python",
   "name": "python",
   "nbconvert_exporter": "python",
   "pygments_lexer": "ipython3",
   "version": "3.8.5"
  }
 },
 "nbformat": 4,
 "nbformat_minor": 4
}
